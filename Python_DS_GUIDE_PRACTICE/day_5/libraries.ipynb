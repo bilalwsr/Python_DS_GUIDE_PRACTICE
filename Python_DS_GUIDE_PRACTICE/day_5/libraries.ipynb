{
 "cells": [
  {
   "attachments": {},
   "cell_type": "markdown",
   "metadata": {
    "tags": [
     "parameters"
    ]
   },
   "source": [
    "# Libraries \n",
    "*Libraries are so much important, libararies are reusable chunk of code that can help in your  projects*.//\n",
    "**Some important libraries in python**.\n",
    "1. Pandas (data frames | works like excel) (find full form of pandas)\n",
    "2. Numpy (help in understanding dimensional data)\n",
    "3. Matplotli (for graphs)\n",
    "4. Seaborn (based matplotlib sometimes we use both)\n",
    "5. Plotly (for interective plot)\n",
    "6. Scipy  (for statistics)\n",
    "7. Scikit learn (for machine learning and predictions)\n",
    "8. Streamlit ()\n",
    "   "
   ]
  }
 ],
 "metadata": {
  "kernelspec": {
   "display_name": "Python 3",
   "language": "python",
   "name": "python3"
  },
  "language_info": {
   "name": "python",
   "version": "3.11.1 (tags/v3.11.1:a7a450f, Dec  6 2022, 19:58:39) [MSC v.1934 64 bit (AMD64)]"
  },
  "orig_nbformat": 4,
  "vscode": {
   "interpreter": {
    "hash": "de47f5c92c0ee6f12a59a5613ac5feff6aab19ddff207ba0b3964cced08c4ccc"
   }
  }
 },
 "nbformat": 4,
 "nbformat_minor": 2
}
